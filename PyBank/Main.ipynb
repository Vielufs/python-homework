{
 "cells": [
  {
   "cell_type": "code",
   "execution_count": 1,
   "metadata": {},
   "outputs": [],
   "source": [
    "# Setting Python to read my directory & csv's\n",
    "from pathlib import Path\n",
    "import csv, collections\n",
    "from csv import reader\n",
    "\n",
    "# Creating a variable associated to the budget data file for the assignment \n",
    "Pybank_csv = (\"C:/Users/Siegfried Vieluf/Desktop/Finance BootCamp/Python/Python_Homework/python-homework/Pybank/budget_data.csv\")\n"
   ]
  },
  {
   "cell_type": "code",
   "execution_count": 2,
   "metadata": {},
   "outputs": [],
   "source": [
    "# Variables for input & output file\n",
    "iFile = open (Pybank_csv,'r') \n",
    "oFile = open ('Pybank.txt','w')\n",
    "\n",
    "# Create a reader iterable object\n",
    "csv_reader = reader(iFile)"
   ]
  },
  {
   "cell_type": "code",
   "execution_count": 3,
   "metadata": {},
   "outputs": [],
   "source": [
    "# Create an Empty Dictionary and an Empty List\n",
    "pybank_data={}\n",
    "pybank_profit= []\n",
    "\n",
    "# Append an empty dictionary for the data in Pybank\n",
    "with (iFile) as f:\n",
    "    reader = csv.reader(f,skipinitialspace=True)\n",
    "    pybank_data = {rows[0]:rows[1:]for rows in reader}\n",
    "\n",
    "# Append to an empty list the profit/losses to calculate the average change in profit/losses\n",
    "with open (Pybank_csv) as f:\n",
    "    reader = csv.reader(f,skipinitialspace=True)\n",
    "    for line in reader:\n",
    "        data = line\n",
    "        pybank_profit.append(data[1])\n"
   ]
  },
  {
   "cell_type": "code",
   "execution_count": 4,
   "metadata": {},
   "outputs": [],
   "source": [
    "# Remove the headers\n",
    "del pybank_data['Date']\n",
    "pybank_profit.remove('Profit/Losses')"
   ]
  },
  {
   "cell_type": "code",
   "execution_count": 5,
   "metadata": {},
   "outputs": [
    {
     "name": "stdout",
     "output_type": "stream",
     "text": [
      "{'Jan-2010': ['867884'], 'Feb-2010': ['984655'], 'Mar-2010': ['322013'], 'Apr-2010': ['-69417'], 'May-2010': ['310503'], 'Jun-2010': ['522857'], 'Jul-2010': ['1033096'], 'Aug-2010': ['604885'], 'Sep-2010': ['-216386'], 'Oct-2010': ['477532'], 'Nov-2010': ['893810'], 'Dec-2010': ['-80353'], 'Jan-2011': ['779806'], 'Feb-2011': ['-335203'], 'Mar-2011': ['697845'], 'Apr-2011': ['793163'], 'May-2011': ['485070'], 'Jun-2011': ['584122'], 'Jul-2011': ['62729'], 'Aug-2011': ['668179'], 'Sep-2011': ['899906'], 'Oct-2011': ['834719'], 'Nov-2011': ['132003'], 'Dec-2011': ['309978'], 'Jan-2012': ['-755566'], 'Feb-2012': ['1170593'], 'Mar-2012': ['252788'], 'Apr-2012': ['1151518'], 'May-2012': ['817256'], 'Jun-2012': ['570757'], 'Jul-2012': ['506702'], 'Aug-2012': ['-1022534'], 'Sep-2012': ['475062'], 'Oct-2012': ['779976'], 'Nov-2012': ['144175'], 'Dec-2012': ['542494'], 'Jan-2013': ['359333'], 'Feb-2013': ['321469'], 'Mar-2013': ['67780'], 'Apr-2013': ['471435'], 'May-2013': ['565603'], 'Jun-2013': ['872480'], 'Jul-2013': ['789480'], 'Aug-2013': ['999942'], 'Sep-2013': ['-1196225'], 'Oct-2013': ['268997'], 'Nov-2013': ['-687986'], 'Dec-2013': ['1150461'], 'Jan-2014': ['682458'], 'Feb-2014': ['617856'], 'Mar-2014': ['824098'], 'Apr-2014': ['581943'], 'May-2014': ['132864'], 'Jun-2014': ['448062'], 'Jul-2014': ['689161'], 'Aug-2014': ['800701'], 'Sep-2014': ['1166643'], 'Oct-2014': ['947333'], 'Nov-2014': ['578668'], 'Dec-2014': ['988505'], 'Jan-2015': ['1139715'], 'Feb-2015': ['1029471'], 'Mar-2015': ['687533'], 'Apr-2015': ['-524626'], 'May-2015': ['158620'], 'Jun-2015': ['87795'], 'Jul-2015': ['423389'], 'Aug-2015': ['840723'], 'Sep-2015': ['568529'], 'Oct-2015': ['332067'], 'Nov-2015': ['989499'], 'Dec-2015': ['778237'], 'Jan-2016': ['650000'], 'Feb-2016': ['-1100387'], 'Mar-2016': ['-174946'], 'Apr-2016': ['757143'], 'May-2016': ['445709'], 'Jun-2016': ['712961'], 'Jul-2016': ['-1163797'], 'Aug-2016': ['569899'], 'Sep-2016': ['768450'], 'Oct-2016': ['102685'], 'Nov-2016': ['795914'], 'Dec-2016': ['60988'], 'Jan-2017': ['138230'], 'Feb-2017': ['671099']}\n",
      "\n",
      " ['867884', '984655', '322013', '-69417', '310503', '522857', '1033096', '604885', '-216386', '477532', '893810', '-80353', '779806', '-335203', '697845', '793163', '485070', '584122', '62729', '668179', '899906', '834719', '132003', '309978', '-755566', '1170593', '252788', '1151518', '817256', '570757', '506702', '-1022534', '475062', '779976', '144175', '542494', '359333', '321469', '67780', '471435', '565603', '872480', '789480', '999942', '-1196225', '268997', '-687986', '1150461', '682458', '617856', '824098', '581943', '132864', '448062', '689161', '800701', '1166643', '947333', '578668', '988505', '1139715', '1029471', '687533', '-524626', '158620', '87795', '423389', '840723', '568529', '332067', '989499', '778237', '650000', '-1100387', '-174946', '757143', '445709', '712961', '-1163797', '569899', '768450', '102685', '795914', '60988', '138230', '671099']\n"
     ]
    }
   ],
   "source": [
    "#Verifying the data\n",
    "print(pybank_data)\n",
    "print('\\n', pybank_profit)"
   ]
  },
  {
   "cell_type": "code",
   "execution_count": 6,
   "metadata": {},
   "outputs": [],
   "source": [
    "# Converting string to integer in the dictionary\n",
    "pybank_data_1= {}\n",
    "for i in pybank_data:\n",
    "    pybank_data_1[i] = [int(k) for k in pybank_data[i]]"
   ]
  },
  {
   "cell_type": "code",
   "execution_count": 7,
   "metadata": {},
   "outputs": [
    {
     "name": "stdout",
     "output_type": "stream",
     "text": [
      "[867884, 984655, 322013, -69417, 310503, 522857, 1033096, 604885, -216386, 477532, 893810, -80353, 779806, -335203, 697845, 793163, 485070, 584122, 62729, 668179, 899906, 834719, 132003, 309978, -755566, 1170593, 252788, 1151518, 817256, 570757, 506702, -1022534, 475062, 779976, 144175, 542494, 359333, 321469, 67780, 471435, 565603, 872480, 789480, 999942, -1196225, 268997, -687986, 1150461, 682458, 617856, 824098, 581943, 132864, 448062, 689161, 800701, 1166643, 947333, 578668, 988505, 1139715, 1029471, 687533, -524626, 158620, 87795, 423389, 840723, 568529, 332067, 989499, 778237, 650000, -1100387, -174946, 757143, 445709, 712961, -1163797, 569899, 768450, 102685, 795914, 60988, 138230, 671099]\n"
     ]
    }
   ],
   "source": [
    "# Modified list to be integers\n",
    "pybank_profit_1 = [int(i) for i in pybank_profit]\n",
    "print(pybank_profit_1)"
   ]
  },
  {
   "cell_type": "code",
   "execution_count": 8,
   "metadata": {},
   "outputs": [],
   "source": [
    "# Creating Variables answering the questions \n",
    "month_count = len(pybank_data)\n",
    "net_profit =  sum([int(x[0]) for x in pybank_data_1.values()])\n",
    "change = [ x - pybank_profit_1[i-1] for i, x in enumerate(pybank_profit_1) if i > 0]\n",
    "sum_of_change = sum(change)\n",
    "average_change = round(sum_of_change/(month_count - 1),2)\n",
    "max_date = max(pybank_data_1, key=pybank_data_1.get)\n",
    "max_increase = max(change)\n",
    "min_date = min(pybank_data_1, key=pybank_data_1.get)\n",
    "min_increase = min(change)"
   ]
  },
  {
   "cell_type": "code",
   "execution_count": 9,
   "metadata": {},
   "outputs": [
    {
     "name": "stdout",
     "output_type": "stream",
     "text": [
      "Total Months: 86\n",
      "Total Profit: 38382578\n",
      "Average Change: $-2315.12 \n",
      "Greatest Increase in Profits: Feb-2012 $(1926159)\n",
      "Greatest Decrease in Profits: Sep-2013 $(-2196167)\n"
     ]
    }
   ],
   "source": [
    "# Calling the variables to test the answers\n",
    "print('Total Months:', month_count)\n",
    "print('Total Profit:', net_profit)\n",
    "print('Average Change: ${} '.format(average_change))\n",
    "print('Greatest Increase in Profits: {} $({})'.format(max_date,max_increase))\n",
    "print('Greatest Decrease in Profits: {} $({})'.format(min_date,min_increase))"
   ]
  },
  {
   "cell_type": "code",
   "execution_count": 10,
   "metadata": {},
   "outputs": [],
   "source": [
    "import sys\n",
    "sys.stdout = oFile"
   ]
  },
  {
   "cell_type": "code",
   "execution_count": 11,
   "metadata": {},
   "outputs": [],
   "source": [
    "# appending to the output file\n",
    "\n",
    "print(\"Financial Analysis\")\n",
    "print('--'*28)\n",
    "print('Total Months:', month_count)\n",
    "print('Total Profit:', net_profit)\n",
    "print('Average Change: ${} '.format(average_change))\n",
    "print('Greatest Increase in Profits: {} $({})'.format(max_date,max_increase))\n",
    "print('Greatest Decrease in Profits: {} $({})'.format(min_date,min_increase))\n",
    "print(\"\\nSiegfried Vieluf's homework\")\n"
   ]
  },
  {
   "cell_type": "code",
   "execution_count": null,
   "metadata": {},
   "outputs": [],
   "source": [
    "sys.stdout.close()"
   ]
  },
  {
   "cell_type": "code",
   "execution_count": null,
   "metadata": {},
   "outputs": [],
   "source": []
  }
 ],
 "metadata": {
  "kernelspec": {
   "display_name": "Python 3",
   "language": "python",
   "name": "python3"
  },
  "language_info": {
   "codemirror_mode": {
    "name": "ipython",
    "version": 3
   },
   "file_extension": ".py",
   "mimetype": "text/x-python",
   "name": "python",
   "nbconvert_exporter": "python",
   "pygments_lexer": "ipython3",
   "version": "3.8.5"
  }
 },
 "nbformat": 4,
 "nbformat_minor": 4
}
